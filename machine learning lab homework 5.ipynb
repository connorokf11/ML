{
 "cells": [
  {
   "cell_type": "markdown",
   "metadata": {},
   "source": [
    "# Machine Learning Lab HW 5\n",
    "# Connor O'Keefe\n",
    "# 02/08/2024"
   ]
  },
  {
   "cell_type": "markdown",
   "metadata": {
    "id": "7ywSRtNI4s5h"
   },
   "source": [
    "# 0.) Import the Credit Card Fraud Data From CCLE"
   ]
  },
  {
   "cell_type": "code",
   "execution_count": 4,
   "metadata": {
    "id": "nsG1QV154GYZ"
   },
   "outputs": [],
   "source": [
    "import pandas as pd\n",
    "import matplotlib.pyplot as plt\n",
    "import numpy as np"
   ]
  },
  {
   "cell_type": "code",
   "execution_count": 5,
   "metadata": {
    "id": "KJQfo8mz43Kz"
   },
   "outputs": [],
   "source": [
    "df = pd.read_csv(\"fraudTest.csv\")"
   ]
  },
  {
   "cell_type": "code",
   "execution_count": 6,
   "metadata": {
    "colab": {
     "base_uri": "https://localhost:8080/",
     "height": 481
    },
    "id": "mKWSRv-q98wE",
    "outputId": "29838bae-3f83-4216-f0da-f7ea7ee6ee69"
   },
   "outputs": [
    {
     "data": {
      "text/html": [
       "<div>\n",
       "<style scoped>\n",
       "    .dataframe tbody tr th:only-of-type {\n",
       "        vertical-align: middle;\n",
       "    }\n",
       "\n",
       "    .dataframe tbody tr th {\n",
       "        vertical-align: top;\n",
       "    }\n",
       "\n",
       "    .dataframe thead th {\n",
       "        text-align: right;\n",
       "    }\n",
       "</style>\n",
       "<table border=\"1\" class=\"dataframe\">\n",
       "  <thead>\n",
       "    <tr style=\"text-align: right;\">\n",
       "      <th></th>\n",
       "      <th>Unnamed: 0</th>\n",
       "      <th>trans_date_trans_time</th>\n",
       "      <th>cc_num</th>\n",
       "      <th>merchant</th>\n",
       "      <th>category</th>\n",
       "      <th>amt</th>\n",
       "      <th>first</th>\n",
       "      <th>last</th>\n",
       "      <th>gender</th>\n",
       "      <th>street</th>\n",
       "      <th>...</th>\n",
       "      <th>lat</th>\n",
       "      <th>long</th>\n",
       "      <th>city_pop</th>\n",
       "      <th>job</th>\n",
       "      <th>dob</th>\n",
       "      <th>trans_num</th>\n",
       "      <th>unix_time</th>\n",
       "      <th>merch_lat</th>\n",
       "      <th>merch_long</th>\n",
       "      <th>is_fraud</th>\n",
       "    </tr>\n",
       "  </thead>\n",
       "  <tbody>\n",
       "    <tr>\n",
       "      <th>0</th>\n",
       "      <td>0</td>\n",
       "      <td>2020-06-21 12:14:25</td>\n",
       "      <td>2291163933867244</td>\n",
       "      <td>fraud_Kirlin and Sons</td>\n",
       "      <td>personal_care</td>\n",
       "      <td>2.86</td>\n",
       "      <td>Jeff</td>\n",
       "      <td>Elliott</td>\n",
       "      <td>M</td>\n",
       "      <td>351 Darlene Green</td>\n",
       "      <td>...</td>\n",
       "      <td>33.9659</td>\n",
       "      <td>-80.9355</td>\n",
       "      <td>333497</td>\n",
       "      <td>Mechanical engineer</td>\n",
       "      <td>1968-03-19</td>\n",
       "      <td>2da90c7d74bd46a0caf3777415b3ebd3</td>\n",
       "      <td>1371816865</td>\n",
       "      <td>33.986391</td>\n",
       "      <td>-81.200714</td>\n",
       "      <td>0</td>\n",
       "    </tr>\n",
       "    <tr>\n",
       "      <th>1</th>\n",
       "      <td>1</td>\n",
       "      <td>2020-06-21 12:14:33</td>\n",
       "      <td>3573030041201292</td>\n",
       "      <td>fraud_Sporer-Keebler</td>\n",
       "      <td>personal_care</td>\n",
       "      <td>29.84</td>\n",
       "      <td>Joanne</td>\n",
       "      <td>Williams</td>\n",
       "      <td>F</td>\n",
       "      <td>3638 Marsh Union</td>\n",
       "      <td>...</td>\n",
       "      <td>40.3207</td>\n",
       "      <td>-110.4360</td>\n",
       "      <td>302</td>\n",
       "      <td>Sales professional, IT</td>\n",
       "      <td>1990-01-17</td>\n",
       "      <td>324cc204407e99f51b0d6ca0055005e7</td>\n",
       "      <td>1371816873</td>\n",
       "      <td>39.450498</td>\n",
       "      <td>-109.960431</td>\n",
       "      <td>0</td>\n",
       "    </tr>\n",
       "    <tr>\n",
       "      <th>2</th>\n",
       "      <td>2</td>\n",
       "      <td>2020-06-21 12:14:53</td>\n",
       "      <td>3598215285024754</td>\n",
       "      <td>fraud_Swaniawski, Nitzsche and Welch</td>\n",
       "      <td>health_fitness</td>\n",
       "      <td>41.28</td>\n",
       "      <td>Ashley</td>\n",
       "      <td>Lopez</td>\n",
       "      <td>F</td>\n",
       "      <td>9333 Valentine Point</td>\n",
       "      <td>...</td>\n",
       "      <td>40.6729</td>\n",
       "      <td>-73.5365</td>\n",
       "      <td>34496</td>\n",
       "      <td>Librarian, public</td>\n",
       "      <td>1970-10-21</td>\n",
       "      <td>c81755dbbbea9d5c77f094348a7579be</td>\n",
       "      <td>1371816893</td>\n",
       "      <td>40.495810</td>\n",
       "      <td>-74.196111</td>\n",
       "      <td>0</td>\n",
       "    </tr>\n",
       "    <tr>\n",
       "      <th>3</th>\n",
       "      <td>3</td>\n",
       "      <td>2020-06-21 12:15:15</td>\n",
       "      <td>3591919803438423</td>\n",
       "      <td>fraud_Haley Group</td>\n",
       "      <td>misc_pos</td>\n",
       "      <td>60.05</td>\n",
       "      <td>Brian</td>\n",
       "      <td>Williams</td>\n",
       "      <td>M</td>\n",
       "      <td>32941 Krystal Mill Apt. 552</td>\n",
       "      <td>...</td>\n",
       "      <td>28.5697</td>\n",
       "      <td>-80.8191</td>\n",
       "      <td>54767</td>\n",
       "      <td>Set designer</td>\n",
       "      <td>1987-07-25</td>\n",
       "      <td>2159175b9efe66dc301f149d3d5abf8c</td>\n",
       "      <td>1371816915</td>\n",
       "      <td>28.812398</td>\n",
       "      <td>-80.883061</td>\n",
       "      <td>0</td>\n",
       "    </tr>\n",
       "    <tr>\n",
       "      <th>4</th>\n",
       "      <td>4</td>\n",
       "      <td>2020-06-21 12:15:17</td>\n",
       "      <td>3526826139003047</td>\n",
       "      <td>fraud_Johnston-Casper</td>\n",
       "      <td>travel</td>\n",
       "      <td>3.19</td>\n",
       "      <td>Nathan</td>\n",
       "      <td>Massey</td>\n",
       "      <td>M</td>\n",
       "      <td>5783 Evan Roads Apt. 465</td>\n",
       "      <td>...</td>\n",
       "      <td>44.2529</td>\n",
       "      <td>-85.0170</td>\n",
       "      <td>1126</td>\n",
       "      <td>Furniture designer</td>\n",
       "      <td>1955-07-06</td>\n",
       "      <td>57ff021bd3f328f8738bb535c302a31b</td>\n",
       "      <td>1371816917</td>\n",
       "      <td>44.959148</td>\n",
       "      <td>-85.884734</td>\n",
       "      <td>0</td>\n",
       "    </tr>\n",
       "  </tbody>\n",
       "</table>\n",
       "<p>5 rows × 23 columns</p>\n",
       "</div>"
      ],
      "text/plain": [
       "   Unnamed: 0 trans_date_trans_time            cc_num  \\\n",
       "0           0   2020-06-21 12:14:25  2291163933867244   \n",
       "1           1   2020-06-21 12:14:33  3573030041201292   \n",
       "2           2   2020-06-21 12:14:53  3598215285024754   \n",
       "3           3   2020-06-21 12:15:15  3591919803438423   \n",
       "4           4   2020-06-21 12:15:17  3526826139003047   \n",
       "\n",
       "                               merchant        category    amt   first  \\\n",
       "0                 fraud_Kirlin and Sons   personal_care   2.86    Jeff   \n",
       "1                  fraud_Sporer-Keebler   personal_care  29.84  Joanne   \n",
       "2  fraud_Swaniawski, Nitzsche and Welch  health_fitness  41.28  Ashley   \n",
       "3                     fraud_Haley Group        misc_pos  60.05   Brian   \n",
       "4                 fraud_Johnston-Casper          travel   3.19  Nathan   \n",
       "\n",
       "       last gender                       street  ...      lat      long  \\\n",
       "0   Elliott      M            351 Darlene Green  ...  33.9659  -80.9355   \n",
       "1  Williams      F             3638 Marsh Union  ...  40.3207 -110.4360   \n",
       "2     Lopez      F         9333 Valentine Point  ...  40.6729  -73.5365   \n",
       "3  Williams      M  32941 Krystal Mill Apt. 552  ...  28.5697  -80.8191   \n",
       "4    Massey      M     5783 Evan Roads Apt. 465  ...  44.2529  -85.0170   \n",
       "\n",
       "   city_pop                     job         dob  \\\n",
       "0    333497     Mechanical engineer  1968-03-19   \n",
       "1       302  Sales professional, IT  1990-01-17   \n",
       "2     34496       Librarian, public  1970-10-21   \n",
       "3     54767            Set designer  1987-07-25   \n",
       "4      1126      Furniture designer  1955-07-06   \n",
       "\n",
       "                          trans_num   unix_time  merch_lat  merch_long  \\\n",
       "0  2da90c7d74bd46a0caf3777415b3ebd3  1371816865  33.986391  -81.200714   \n",
       "1  324cc204407e99f51b0d6ca0055005e7  1371816873  39.450498 -109.960431   \n",
       "2  c81755dbbbea9d5c77f094348a7579be  1371816893  40.495810  -74.196111   \n",
       "3  2159175b9efe66dc301f149d3d5abf8c  1371816915  28.812398  -80.883061   \n",
       "4  57ff021bd3f328f8738bb535c302a31b  1371816917  44.959148  -85.884734   \n",
       "\n",
       "   is_fraud  \n",
       "0         0  \n",
       "1         0  \n",
       "2         0  \n",
       "3         0  \n",
       "4         0  \n",
       "\n",
       "[5 rows x 23 columns]"
      ]
     },
     "execution_count": 6,
     "metadata": {},
     "output_type": "execute_result"
    }
   ],
   "source": [
    "df.head()"
   ]
  },
  {
   "cell_type": "code",
   "execution_count": 7,
   "metadata": {
    "colab": {
     "base_uri": "https://localhost:8080/"
    },
    "id": "2_YuJa4IFKda",
    "outputId": "7e387d76-2dd6-472c-d598-5994ef2b9fda"
   },
   "outputs": [
    {
     "name": "stderr",
     "output_type": "stream",
     "text": [
      "C:\\Users\\12282\\AppData\\Local\\Temp\\ipykernel_22492\\2282180580.py:3: SettingWithCopyWarning: \n",
      "A value is trying to be set on a copy of a slice from a DataFrame.\n",
      "Try using .loc[row_indexer,col_indexer] = value instead\n",
      "\n",
      "See the caveats in the documentation: https://pandas.pydata.org/pandas-docs/stable/user_guide/indexing.html#returning-a-view-versus-a-copy\n",
      "  df_select[\"trans_date_trans_time\"] = pd.to_datetime(df_select[\"trans_date_trans_time\"])\n",
      "C:\\Users\\12282\\AppData\\Local\\Temp\\ipykernel_22492\\2282180580.py:4: SettingWithCopyWarning: \n",
      "A value is trying to be set on a copy of a slice from a DataFrame.\n",
      "Try using .loc[row_indexer,col_indexer] = value instead\n",
      "\n",
      "See the caveats in the documentation: https://pandas.pydata.org/pandas-docs/stable/user_guide/indexing.html#returning-a-view-versus-a-copy\n",
      "  df_select[\"time_var\"] = [i.second for i in df_select[\"trans_date_trans_time\"]]\n"
     ]
    }
   ],
   "source": [
    "df_select = df[[\"trans_date_trans_time\", \"category\", \"amt\", \"city_pop\", \"is_fraud\"]]\n",
    "\n",
    "df_select[\"trans_date_trans_time\"] = pd.to_datetime(df_select[\"trans_date_trans_time\"])\n",
    "df_select[\"time_var\"] = [i.second for i in df_select[\"trans_date_trans_time\"]]\n",
    "\n",
    "X = pd.get_dummies(df_select, [\"category\"]).drop([\"trans_date_trans_time\", \"is_fraud\"], axis = 1)\n",
    "y = df[\"is_fraud\"]"
   ]
  },
  {
   "cell_type": "markdown",
   "metadata": {
    "id": "8VsnpGe9-B3p"
   },
   "source": [
    "# 1.) Use scikit learn preprocessing to split the data into 70/30 in out of sample"
   ]
  },
  {
   "cell_type": "code",
   "execution_count": 8,
   "metadata": {
    "id": "1tpCDMW198ym"
   },
   "outputs": [],
   "source": [
    "from sklearn.model_selection import train_test_split\n",
    "from sklearn.preprocessing import StandardScaler"
   ]
  },
  {
   "cell_type": "code",
   "execution_count": 9,
   "metadata": {
    "id": "FZvnpERK981d"
   },
   "outputs": [],
   "source": [
    "X_train, X_test, y_train, y_test = train_test_split(X, y, test_size = .3)"
   ]
  },
  {
   "cell_type": "code",
   "execution_count": 10,
   "metadata": {
    "id": "JvCzIdgO983i"
   },
   "outputs": [],
   "source": [
    "X_test, X_holdout, y_test, y_holdout = train_test_split(X_test, y_test, test_size = .5)"
   ]
  },
  {
   "cell_type": "code",
   "execution_count": 11,
   "metadata": {
    "id": "f7APv9N3986a"
   },
   "outputs": [],
   "source": [
    "scaler = StandardScaler()\n",
    "X_train = scaler.fit_transform(X_train)\n",
    "X_test = scaler.transform(X_test)\n",
    "X_holdout = scaler.transform(X_holdout)"
   ]
  },
  {
   "cell_type": "markdown",
   "metadata": {
    "id": "lbkpNPyN-Gnk"
   },
   "source": [
    "# 2.) Make three sets of training data (Oversample, Undersample and SMOTE)"
   ]
  },
  {
   "cell_type": "code",
   "execution_count": 12,
   "metadata": {
    "id": "gTTVciVkqopH"
   },
   "outputs": [],
   "source": [
    "from imblearn.over_sampling import RandomOverSampler\n",
    "from imblearn.under_sampling import RandomUnderSampler\n",
    "from imblearn.over_sampling import SMOTE"
   ]
  },
  {
   "cell_type": "code",
   "execution_count": 13,
   "metadata": {
    "id": "gG88uxbiV4lZ"
   },
   "outputs": [],
   "source": [
    "ros = RandomOverSampler()\n",
    "over_X, over_y = ros.fit_resample(X_train, y_train)\n",
    "\n",
    "rus = RandomUnderSampler()\n",
    "under_X, under_y = rus.fit_resample(X_train, y_train)\n",
    "\n",
    "smote = SMOTE()\n",
    "smote_X, smote_y = smote.fit_resample(X_train, y_train)"
   ]
  },
  {
   "cell_type": "markdown",
   "metadata": {
    "id": "bIJx2jvD-KEI"
   },
   "source": [
    "# 3.) Train three logistic regression models"
   ]
  },
  {
   "cell_type": "code",
   "execution_count": 14,
   "metadata": {
    "id": "QhVMq92zvz4s"
   },
   "outputs": [],
   "source": [
    "from sklearn.linear_model import LogisticRegression"
   ]
  },
  {
   "cell_type": "code",
   "execution_count": 15,
   "metadata": {
    "id": "NvwomEoaGAgN"
   },
   "outputs": [],
   "source": [
    "over_log = LogisticRegression().fit(over_X, over_y)\n",
    "\n",
    "under_log = LogisticRegression().fit(under_X, under_y)\n",
    "\n",
    "smote_log = LogisticRegression().fit(smote_X, smote_y)"
   ]
  },
  {
   "cell_type": "markdown",
   "metadata": {
    "id": "PeurmqI4-OoC"
   },
   "source": [
    "# 4.) Test the three models"
   ]
  },
  {
   "cell_type": "code",
   "execution_count": 16,
   "metadata": {
    "colab": {
     "base_uri": "https://localhost:8080/"
    },
    "id": "8tpSsOC0xsKs",
    "outputId": "fee6e3f0-6c06-489e-90da-59237e609bca"
   },
   "outputs": [
    {
     "data": {
      "text/plain": [
       "0.9271815542599391"
      ]
     },
     "execution_count": 16,
     "metadata": {},
     "output_type": "execute_result"
    }
   ],
   "source": [
    "over_log.score(X_test, y_test)"
   ]
  },
  {
   "cell_type": "code",
   "execution_count": 17,
   "metadata": {
    "colab": {
     "base_uri": "https://localhost:8080/"
    },
    "id": "zwq8KTmsXhFY",
    "outputId": "7c01f959-58d8-44c6-e955-39fe84168d8a"
   },
   "outputs": [
    {
     "data": {
      "text/plain": [
       "0.91931188368243"
      ]
     },
     "execution_count": 17,
     "metadata": {},
     "output_type": "execute_result"
    }
   ],
   "source": [
    "under_log.score(X_test, y_test)"
   ]
  },
  {
   "cell_type": "code",
   "execution_count": 18,
   "metadata": {
    "colab": {
     "base_uri": "https://localhost:8080/"
    },
    "id": "DjgQ8BQM99WR",
    "outputId": "a4f3fa30-e8f3-43f4-b562-959b200488e4"
   },
   "outputs": [
    {
     "data": {
      "text/plain": [
       "0.9233426905635932"
      ]
     },
     "execution_count": 18,
     "metadata": {},
     "output_type": "execute_result"
    }
   ],
   "source": [
    "smote_log.score(X_test, y_test)"
   ]
  },
  {
   "cell_type": "code",
   "execution_count": null,
   "metadata": {
    "id": "IF_H74Ht-RIL"
   },
   "outputs": [],
   "source": [
    "# We see SMOTE performing with higher accuracy but is ACCURACY really the best measure?"
   ]
  },
  {
   "cell_type": "markdown",
   "metadata": {
    "id": "6isBwtmL-R4p"
   },
   "source": [
    "# 5.) Which performed best in Out of Sample metrics?"
   ]
  },
  {
   "cell_type": "code",
   "execution_count": 19,
   "metadata": {
    "id": "9fwAhujT-RN4"
   },
   "outputs": [],
   "source": [
    "# Sensitivity here in credit fraud is more important as seen from last class"
   ]
  },
  {
   "cell_type": "code",
   "execution_count": 20,
   "metadata": {
    "id": "POIuy3rH-RQv"
   },
   "outputs": [],
   "source": [
    "from sklearn.metrics import confusion_matrix"
   ]
  },
  {
   "cell_type": "code",
   "execution_count": 69,
   "metadata": {
    "id": "e42UoedMK6eq"
   },
   "outputs": [],
   "source": [
    "y_true = y_test"
   ]
  },
  {
   "cell_type": "code",
   "execution_count": 70,
   "metadata": {
    "colab": {
     "base_uri": "https://localhost:8080/"
    },
    "id": "2mc_RyrHK6hX",
    "outputId": "408bb243-3c83-4337-97f5-21f57718360f"
   },
   "outputs": [
    {
     "data": {
      "text/plain": [
       "array([[77065,  5991],\n",
       "       [   79,   223]], dtype=int64)"
      ]
     },
     "execution_count": 70,
     "metadata": {},
     "output_type": "execute_result"
    }
   ],
   "source": [
    "y_pred = over_log.predict(X_test)\n",
    "cm = confusion_matrix(y_true, y_pred)\n",
    "cm"
   ]
  },
  {
   "cell_type": "code",
   "execution_count": 71,
   "metadata": {
    "colab": {
     "base_uri": "https://localhost:8080/"
    },
    "id": "xT6gNjLuK6jS",
    "outputId": "2ed847ca-c7a5-414b-d45a-2e7acadfc9d5"
   },
   "outputs": [
    {
     "name": "stdout",
     "output_type": "stream",
     "text": [
      "Over Sample Sensitivity :  0.7384105960264901\n"
     ]
    }
   ],
   "source": [
    "print(\"Over Sample Sensitivity : \", cm[1,1] /(cm[1,0] + cm[1,1]))"
   ]
  },
  {
   "cell_type": "code",
   "execution_count": 72,
   "metadata": {
    "colab": {
     "base_uri": "https://localhost:8080/"
    },
    "id": "FTHhw9P1K6lY",
    "outputId": "cadf0e8b-2b60-4ac8-fa81-275d3fab8c6f"
   },
   "outputs": [
    {
     "data": {
      "text/plain": [
       "array([[76409,  6647],\n",
       "       [   79,   223]], dtype=int64)"
      ]
     },
     "execution_count": 72,
     "metadata": {},
     "output_type": "execute_result"
    }
   ],
   "source": [
    "y_pred = under_log.predict(X_test)\n",
    "cm = confusion_matrix(y_true, y_pred)\n",
    "cm"
   ]
  },
  {
   "cell_type": "code",
   "execution_count": 73,
   "metadata": {
    "colab": {
     "base_uri": "https://localhost:8080/"
    },
    "id": "g14fgEkT-RTV",
    "outputId": "72b0902b-c2f5-46c7-c49c-83126c75c94f"
   },
   "outputs": [
    {
     "name": "stdout",
     "output_type": "stream",
     "text": [
      "Under Sample Sensitivity :  0.7384105960264901\n"
     ]
    }
   ],
   "source": [
    "print(\"Under Sample Sensitivity : \", cm[1,1] /(cm[1,0] + cm[1,1]))"
   ]
  },
  {
   "cell_type": "code",
   "execution_count": 74,
   "metadata": {
    "colab": {
     "base_uri": "https://localhost:8080/"
    },
    "id": "_iZ217d8LAR0",
    "outputId": "6d498a8f-bdd9-445d-97cc-6e4eec82574b"
   },
   "outputs": [
    {
     "data": {
      "text/plain": [
       "array([[76745,  6311],\n",
       "       [   79,   223]], dtype=int64)"
      ]
     },
     "execution_count": 74,
     "metadata": {},
     "output_type": "execute_result"
    }
   ],
   "source": [
    "y_pred = smote_log.predict(X_test)\n",
    "cm = confusion_matrix(y_true, y_pred)\n",
    "cm"
   ]
  },
  {
   "cell_type": "code",
   "execution_count": 75,
   "metadata": {
    "colab": {
     "base_uri": "https://localhost:8080/"
    },
    "id": "X5bfByOALAUk",
    "outputId": "a7071ed7-f896-4825-90f4-612a0603697a"
   },
   "outputs": [
    {
     "name": "stdout",
     "output_type": "stream",
     "text": [
      "SMOTE Sample Sensitivity :  0.7384105960264901\n"
     ]
    }
   ],
   "source": [
    "print(\"SMOTE Sample Sensitivity : \", cm[1,1] /(cm[1,0] + cm[1,1]))"
   ]
  },
  {
   "cell_type": "markdown",
   "metadata": {
    "id": "aQa3sanl-XUk"
   },
   "source": [
    "# 6.) Pick two features and plot the two classes before and after SMOTE."
   ]
  },
  {
   "cell_type": "code",
   "execution_count": 40,
   "metadata": {
    "id": "MDSBmS_usbeJ"
   },
   "outputs": [
    {
     "data": {
      "text/html": [
       "<div>\n",
       "<style scoped>\n",
       "    .dataframe tbody tr th:only-of-type {\n",
       "        vertical-align: middle;\n",
       "    }\n",
       "\n",
       "    .dataframe tbody tr th {\n",
       "        vertical-align: top;\n",
       "    }\n",
       "\n",
       "    .dataframe thead th {\n",
       "        text-align: right;\n",
       "    }\n",
       "</style>\n",
       "<table border=\"1\" class=\"dataframe\">\n",
       "  <thead>\n",
       "    <tr style=\"text-align: right;\">\n",
       "      <th></th>\n",
       "      <th>0</th>\n",
       "      <th>1</th>\n",
       "      <th>2</th>\n",
       "      <th>3</th>\n",
       "      <th>4</th>\n",
       "      <th>5</th>\n",
       "      <th>6</th>\n",
       "      <th>7</th>\n",
       "      <th>8</th>\n",
       "      <th>9</th>\n",
       "      <th>10</th>\n",
       "      <th>11</th>\n",
       "      <th>12</th>\n",
       "      <th>13</th>\n",
       "      <th>14</th>\n",
       "      <th>15</th>\n",
       "      <th>16</th>\n",
       "      <th>is_fraud</th>\n",
       "    </tr>\n",
       "  </thead>\n",
       "  <tbody>\n",
       "    <tr>\n",
       "      <th>0</th>\n",
       "      <td>-0.141414</td>\n",
       "      <td>-0.289937</td>\n",
       "      <td>1.070757</td>\n",
       "      <td>-0.278376</td>\n",
       "      <td>-0.275988</td>\n",
       "      <td>-0.336219</td>\n",
       "      <td>-0.19051</td>\n",
       "      <td>-0.322955</td>\n",
       "      <td>-0.266147</td>\n",
       "      <td>3.094914</td>\n",
       "      <td>-0.310211</td>\n",
       "      <td>-0.226946</td>\n",
       "      <td>-0.257458</td>\n",
       "      <td>-0.275308</td>\n",
       "      <td>-0.284894</td>\n",
       "      <td>-0.314464</td>\n",
       "      <td>-0.17929</td>\n",
       "      <td>0.0</td>\n",
       "    </tr>\n",
       "    <tr>\n",
       "      <th>1</th>\n",
       "      <td>-0.389317</td>\n",
       "      <td>-0.276441</td>\n",
       "      <td>0.897274</td>\n",
       "      <td>-0.278376</td>\n",
       "      <td>-0.275988</td>\n",
       "      <td>-0.336219</td>\n",
       "      <td>-0.19051</td>\n",
       "      <td>-0.322955</td>\n",
       "      <td>3.757324</td>\n",
       "      <td>-0.323111</td>\n",
       "      <td>-0.310211</td>\n",
       "      <td>-0.226946</td>\n",
       "      <td>-0.257458</td>\n",
       "      <td>-0.275308</td>\n",
       "      <td>-0.284894</td>\n",
       "      <td>-0.314464</td>\n",
       "      <td>-0.17929</td>\n",
       "      <td>NaN</td>\n",
       "    </tr>\n",
       "    <tr>\n",
       "      <th>2</th>\n",
       "      <td>0.039317</td>\n",
       "      <td>-0.039814</td>\n",
       "      <td>1.244240</td>\n",
       "      <td>-0.278376</td>\n",
       "      <td>-0.275988</td>\n",
       "      <td>-0.336219</td>\n",
       "      <td>-0.19051</td>\n",
       "      <td>3.096403</td>\n",
       "      <td>-0.266147</td>\n",
       "      <td>-0.323111</td>\n",
       "      <td>-0.310211</td>\n",
       "      <td>-0.226946</td>\n",
       "      <td>-0.257458</td>\n",
       "      <td>-0.275308</td>\n",
       "      <td>-0.284894</td>\n",
       "      <td>-0.314464</td>\n",
       "      <td>-0.17929</td>\n",
       "      <td>0.0</td>\n",
       "    </tr>\n",
       "    <tr>\n",
       "      <th>3</th>\n",
       "      <td>-0.060003</td>\n",
       "      <td>-0.293272</td>\n",
       "      <td>1.417723</td>\n",
       "      <td>-0.278376</td>\n",
       "      <td>-0.275988</td>\n",
       "      <td>2.974253</td>\n",
       "      <td>-0.19051</td>\n",
       "      <td>-0.322955</td>\n",
       "      <td>-0.266147</td>\n",
       "      <td>-0.323111</td>\n",
       "      <td>-0.310211</td>\n",
       "      <td>-0.226946</td>\n",
       "      <td>-0.257458</td>\n",
       "      <td>-0.275308</td>\n",
       "      <td>-0.284894</td>\n",
       "      <td>-0.314464</td>\n",
       "      <td>-0.17929</td>\n",
       "      <td>NaN</td>\n",
       "    </tr>\n",
       "    <tr>\n",
       "      <th>4</th>\n",
       "      <td>0.120301</td>\n",
       "      <td>-0.180632</td>\n",
       "      <td>0.608135</td>\n",
       "      <td>3.592267</td>\n",
       "      <td>-0.275988</td>\n",
       "      <td>-0.336219</td>\n",
       "      <td>-0.19051</td>\n",
       "      <td>-0.322955</td>\n",
       "      <td>-0.266147</td>\n",
       "      <td>-0.323111</td>\n",
       "      <td>-0.310211</td>\n",
       "      <td>-0.226946</td>\n",
       "      <td>-0.257458</td>\n",
       "      <td>-0.275308</td>\n",
       "      <td>-0.284894</td>\n",
       "      <td>-0.314464</td>\n",
       "      <td>-0.17929</td>\n",
       "      <td>0.0</td>\n",
       "    </tr>\n",
       "    <tr>\n",
       "      <th>...</th>\n",
       "      <td>...</td>\n",
       "      <td>...</td>\n",
       "      <td>...</td>\n",
       "      <td>...</td>\n",
       "      <td>...</td>\n",
       "      <td>...</td>\n",
       "      <td>...</td>\n",
       "      <td>...</td>\n",
       "      <td>...</td>\n",
       "      <td>...</td>\n",
       "      <td>...</td>\n",
       "      <td>...</td>\n",
       "      <td>...</td>\n",
       "      <td>...</td>\n",
       "      <td>...</td>\n",
       "      <td>...</td>\n",
       "      <td>...</td>\n",
       "      <td>...</td>\n",
       "    </tr>\n",
       "    <tr>\n",
       "      <th>501540</th>\n",
       "      <td>NaN</td>\n",
       "      <td>NaN</td>\n",
       "      <td>NaN</td>\n",
       "      <td>NaN</td>\n",
       "      <td>NaN</td>\n",
       "      <td>NaN</td>\n",
       "      <td>NaN</td>\n",
       "      <td>NaN</td>\n",
       "      <td>NaN</td>\n",
       "      <td>NaN</td>\n",
       "      <td>NaN</td>\n",
       "      <td>NaN</td>\n",
       "      <td>NaN</td>\n",
       "      <td>NaN</td>\n",
       "      <td>NaN</td>\n",
       "      <td>NaN</td>\n",
       "      <td>NaN</td>\n",
       "      <td>0.0</td>\n",
       "    </tr>\n",
       "    <tr>\n",
       "      <th>440489</th>\n",
       "      <td>NaN</td>\n",
       "      <td>NaN</td>\n",
       "      <td>NaN</td>\n",
       "      <td>NaN</td>\n",
       "      <td>NaN</td>\n",
       "      <td>NaN</td>\n",
       "      <td>NaN</td>\n",
       "      <td>NaN</td>\n",
       "      <td>NaN</td>\n",
       "      <td>NaN</td>\n",
       "      <td>NaN</td>\n",
       "      <td>NaN</td>\n",
       "      <td>NaN</td>\n",
       "      <td>NaN</td>\n",
       "      <td>NaN</td>\n",
       "      <td>NaN</td>\n",
       "      <td>NaN</td>\n",
       "      <td>0.0</td>\n",
       "    </tr>\n",
       "    <tr>\n",
       "      <th>534484</th>\n",
       "      <td>NaN</td>\n",
       "      <td>NaN</td>\n",
       "      <td>NaN</td>\n",
       "      <td>NaN</td>\n",
       "      <td>NaN</td>\n",
       "      <td>NaN</td>\n",
       "      <td>NaN</td>\n",
       "      <td>NaN</td>\n",
       "      <td>NaN</td>\n",
       "      <td>NaN</td>\n",
       "      <td>NaN</td>\n",
       "      <td>NaN</td>\n",
       "      <td>NaN</td>\n",
       "      <td>NaN</td>\n",
       "      <td>NaN</td>\n",
       "      <td>NaN</td>\n",
       "      <td>NaN</td>\n",
       "      <td>0.0</td>\n",
       "    </tr>\n",
       "    <tr>\n",
       "      <th>481131</th>\n",
       "      <td>NaN</td>\n",
       "      <td>NaN</td>\n",
       "      <td>NaN</td>\n",
       "      <td>NaN</td>\n",
       "      <td>NaN</td>\n",
       "      <td>NaN</td>\n",
       "      <td>NaN</td>\n",
       "      <td>NaN</td>\n",
       "      <td>NaN</td>\n",
       "      <td>NaN</td>\n",
       "      <td>NaN</td>\n",
       "      <td>NaN</td>\n",
       "      <td>NaN</td>\n",
       "      <td>NaN</td>\n",
       "      <td>NaN</td>\n",
       "      <td>NaN</td>\n",
       "      <td>NaN</td>\n",
       "      <td>0.0</td>\n",
       "    </tr>\n",
       "    <tr>\n",
       "      <th>438877</th>\n",
       "      <td>NaN</td>\n",
       "      <td>NaN</td>\n",
       "      <td>NaN</td>\n",
       "      <td>NaN</td>\n",
       "      <td>NaN</td>\n",
       "      <td>NaN</td>\n",
       "      <td>NaN</td>\n",
       "      <td>NaN</td>\n",
       "      <td>NaN</td>\n",
       "      <td>NaN</td>\n",
       "      <td>NaN</td>\n",
       "      <td>NaN</td>\n",
       "      <td>NaN</td>\n",
       "      <td>NaN</td>\n",
       "      <td>NaN</td>\n",
       "      <td>NaN</td>\n",
       "      <td>NaN</td>\n",
       "      <td>0.0</td>\n",
       "    </tr>\n",
       "  </tbody>\n",
       "</table>\n",
       "<p>505381 rows × 18 columns</p>\n",
       "</div>"
      ],
      "text/plain": [
       "               0         1         2         3         4         5        6  \\\n",
       "0      -0.141414 -0.289937  1.070757 -0.278376 -0.275988 -0.336219 -0.19051   \n",
       "1      -0.389317 -0.276441  0.897274 -0.278376 -0.275988 -0.336219 -0.19051   \n",
       "2       0.039317 -0.039814  1.244240 -0.278376 -0.275988 -0.336219 -0.19051   \n",
       "3      -0.060003 -0.293272  1.417723 -0.278376 -0.275988  2.974253 -0.19051   \n",
       "4       0.120301 -0.180632  0.608135  3.592267 -0.275988 -0.336219 -0.19051   \n",
       "...          ...       ...       ...       ...       ...       ...      ...   \n",
       "501540       NaN       NaN       NaN       NaN       NaN       NaN      NaN   \n",
       "440489       NaN       NaN       NaN       NaN       NaN       NaN      NaN   \n",
       "534484       NaN       NaN       NaN       NaN       NaN       NaN      NaN   \n",
       "481131       NaN       NaN       NaN       NaN       NaN       NaN      NaN   \n",
       "438877       NaN       NaN       NaN       NaN       NaN       NaN      NaN   \n",
       "\n",
       "               7         8         9        10        11        12        13  \\\n",
       "0      -0.322955 -0.266147  3.094914 -0.310211 -0.226946 -0.257458 -0.275308   \n",
       "1      -0.322955  3.757324 -0.323111 -0.310211 -0.226946 -0.257458 -0.275308   \n",
       "2       3.096403 -0.266147 -0.323111 -0.310211 -0.226946 -0.257458 -0.275308   \n",
       "3      -0.322955 -0.266147 -0.323111 -0.310211 -0.226946 -0.257458 -0.275308   \n",
       "4      -0.322955 -0.266147 -0.323111 -0.310211 -0.226946 -0.257458 -0.275308   \n",
       "...          ...       ...       ...       ...       ...       ...       ...   \n",
       "501540       NaN       NaN       NaN       NaN       NaN       NaN       NaN   \n",
       "440489       NaN       NaN       NaN       NaN       NaN       NaN       NaN   \n",
       "534484       NaN       NaN       NaN       NaN       NaN       NaN       NaN   \n",
       "481131       NaN       NaN       NaN       NaN       NaN       NaN       NaN   \n",
       "438877       NaN       NaN       NaN       NaN       NaN       NaN       NaN   \n",
       "\n",
       "              14        15       16  is_fraud  \n",
       "0      -0.284894 -0.314464 -0.17929       0.0  \n",
       "1      -0.284894 -0.314464 -0.17929       NaN  \n",
       "2      -0.284894 -0.314464 -0.17929       0.0  \n",
       "3      -0.284894 -0.314464 -0.17929       NaN  \n",
       "4      -0.284894 -0.314464 -0.17929       0.0  \n",
       "...          ...       ...      ...       ...  \n",
       "501540       NaN       NaN      NaN       0.0  \n",
       "440489       NaN       NaN      NaN       0.0  \n",
       "534484       NaN       NaN      NaN       0.0  \n",
       "481131       NaN       NaN      NaN       0.0  \n",
       "438877       NaN       NaN      NaN       0.0  \n",
       "\n",
       "[505381 rows x 18 columns]"
      ]
     },
     "execution_count": 40,
     "metadata": {},
     "output_type": "execute_result"
    }
   ],
   "source": [
    "X_train = pd.DataFrame(X_train)\n",
    "y_train = pd.DataFrame(y_train)\n",
    "raw_temp = pd.concat([X_train, y_train], axis = 1)\n",
    "raw_temp"
   ]
  },
  {
   "cell_type": "code",
   "execution_count": 42,
   "metadata": {
    "colab": {
     "base_uri": "https://localhost:8080/",
     "height": 465
    },
    "id": "vVaHpqf9wHj7",
    "outputId": "105a15c4-f26c-4210-f97c-4b4c3112344e"
   },
   "outputs": [
    {
     "data": {
      "image/png": "[encoded data removed]",
      "text/plain": [
       "<Figure size 640x480 with 1 Axes>"
      ]
     },
     "metadata": {},
     "output_type": "display_data"
    }
   ],
   "source": [
    "# not sure if this is right\n",
    "plt.scatter(df[df[\"is_fraud\"] == 0][\"amt\"], df[df[\"is_fraud\"] == 0][\"city_pop\"])\n",
    "plt.scatter(df[df[\"is_fraud\"] == 1][\"amt\"], df[df[\"is_fraud\"] == 1][\"city_pop\"])\n",
    "plt.legend([\"Fraud\", \"Not Fraud\"])\n",
    "plt.xlabel(\"Amount\")\n",
    "plt.ylabel(\"Population\")\n",
    "\n",
    "plt.show()"
   ]
  },
  {
   "cell_type": "code",
   "execution_count": 45,
   "metadata": {
    "id": "YphNDj12aFhP"
   },
   "outputs": [
    {
     "data": {
      "text/html": [
       "<div>\n",
       "<style scoped>\n",
       "    .dataframe tbody tr th:only-of-type {\n",
       "        vertical-align: middle;\n",
       "    }\n",
       "\n",
       "    .dataframe tbody tr th {\n",
       "        vertical-align: top;\n",
       "    }\n",
       "\n",
       "    .dataframe thead th {\n",
       "        text-align: right;\n",
       "    }\n",
       "</style>\n",
       "<table border=\"1\" class=\"dataframe\">\n",
       "  <thead>\n",
       "    <tr style=\"text-align: right;\">\n",
       "      <th></th>\n",
       "      <th>0</th>\n",
       "      <th>1</th>\n",
       "      <th>2</th>\n",
       "      <th>3</th>\n",
       "      <th>4</th>\n",
       "      <th>5</th>\n",
       "      <th>6</th>\n",
       "      <th>7</th>\n",
       "      <th>8</th>\n",
       "      <th>9</th>\n",
       "      <th>10</th>\n",
       "      <th>11</th>\n",
       "      <th>12</th>\n",
       "      <th>13</th>\n",
       "      <th>14</th>\n",
       "      <th>15</th>\n",
       "      <th>16</th>\n",
       "      <th>is_fraud</th>\n",
       "    </tr>\n",
       "  </thead>\n",
       "  <tbody>\n",
       "    <tr>\n",
       "      <th>0</th>\n",
       "      <td>-0.141414</td>\n",
       "      <td>-0.289937</td>\n",
       "      <td>1.070757</td>\n",
       "      <td>-0.278376</td>\n",
       "      <td>-0.275988</td>\n",
       "      <td>-0.336219</td>\n",
       "      <td>-0.190510</td>\n",
       "      <td>-0.322955</td>\n",
       "      <td>-0.266147</td>\n",
       "      <td>3.094914</td>\n",
       "      <td>-0.310211</td>\n",
       "      <td>-0.226946</td>\n",
       "      <td>-0.257458</td>\n",
       "      <td>-0.275308</td>\n",
       "      <td>-0.284894</td>\n",
       "      <td>-0.314464</td>\n",
       "      <td>-0.17929</td>\n",
       "      <td>0</td>\n",
       "    </tr>\n",
       "    <tr>\n",
       "      <th>1</th>\n",
       "      <td>-0.389317</td>\n",
       "      <td>-0.276441</td>\n",
       "      <td>0.897274</td>\n",
       "      <td>-0.278376</td>\n",
       "      <td>-0.275988</td>\n",
       "      <td>-0.336219</td>\n",
       "      <td>-0.190510</td>\n",
       "      <td>-0.322955</td>\n",
       "      <td>3.757324</td>\n",
       "      <td>-0.323111</td>\n",
       "      <td>-0.310211</td>\n",
       "      <td>-0.226946</td>\n",
       "      <td>-0.257458</td>\n",
       "      <td>-0.275308</td>\n",
       "      <td>-0.284894</td>\n",
       "      <td>-0.314464</td>\n",
       "      <td>-0.17929</td>\n",
       "      <td>0</td>\n",
       "    </tr>\n",
       "    <tr>\n",
       "      <th>2</th>\n",
       "      <td>0.039317</td>\n",
       "      <td>-0.039814</td>\n",
       "      <td>1.244240</td>\n",
       "      <td>-0.278376</td>\n",
       "      <td>-0.275988</td>\n",
       "      <td>-0.336219</td>\n",
       "      <td>-0.190510</td>\n",
       "      <td>3.096403</td>\n",
       "      <td>-0.266147</td>\n",
       "      <td>-0.323111</td>\n",
       "      <td>-0.310211</td>\n",
       "      <td>-0.226946</td>\n",
       "      <td>-0.257458</td>\n",
       "      <td>-0.275308</td>\n",
       "      <td>-0.284894</td>\n",
       "      <td>-0.314464</td>\n",
       "      <td>-0.17929</td>\n",
       "      <td>0</td>\n",
       "    </tr>\n",
       "    <tr>\n",
       "      <th>3</th>\n",
       "      <td>-0.060003</td>\n",
       "      <td>-0.293272</td>\n",
       "      <td>1.417723</td>\n",
       "      <td>-0.278376</td>\n",
       "      <td>-0.275988</td>\n",
       "      <td>2.974253</td>\n",
       "      <td>-0.190510</td>\n",
       "      <td>-0.322955</td>\n",
       "      <td>-0.266147</td>\n",
       "      <td>-0.323111</td>\n",
       "      <td>-0.310211</td>\n",
       "      <td>-0.226946</td>\n",
       "      <td>-0.257458</td>\n",
       "      <td>-0.275308</td>\n",
       "      <td>-0.284894</td>\n",
       "      <td>-0.314464</td>\n",
       "      <td>-0.17929</td>\n",
       "      <td>0</td>\n",
       "    </tr>\n",
       "    <tr>\n",
       "      <th>4</th>\n",
       "      <td>0.120301</td>\n",
       "      <td>-0.180632</td>\n",
       "      <td>0.608135</td>\n",
       "      <td>3.592267</td>\n",
       "      <td>-0.275988</td>\n",
       "      <td>-0.336219</td>\n",
       "      <td>-0.190510</td>\n",
       "      <td>-0.322955</td>\n",
       "      <td>-0.266147</td>\n",
       "      <td>-0.323111</td>\n",
       "      <td>-0.310211</td>\n",
       "      <td>-0.226946</td>\n",
       "      <td>-0.257458</td>\n",
       "      <td>-0.275308</td>\n",
       "      <td>-0.284894</td>\n",
       "      <td>-0.314464</td>\n",
       "      <td>-0.17929</td>\n",
       "      <td>0</td>\n",
       "    </tr>\n",
       "    <tr>\n",
       "      <th>...</th>\n",
       "      <td>...</td>\n",
       "      <td>...</td>\n",
       "      <td>...</td>\n",
       "      <td>...</td>\n",
       "      <td>...</td>\n",
       "      <td>...</td>\n",
       "      <td>...</td>\n",
       "      <td>...</td>\n",
       "      <td>...</td>\n",
       "      <td>...</td>\n",
       "      <td>...</td>\n",
       "      <td>...</td>\n",
       "      <td>...</td>\n",
       "      <td>...</td>\n",
       "      <td>...</td>\n",
       "      <td>...</td>\n",
       "      <td>...</td>\n",
       "      <td>...</td>\n",
       "    </tr>\n",
       "    <tr>\n",
       "      <th>775013</th>\n",
       "      <td>2.928237</td>\n",
       "      <td>-0.289327</td>\n",
       "      <td>-0.192000</td>\n",
       "      <td>3.592267</td>\n",
       "      <td>-0.275988</td>\n",
       "      <td>-0.336219</td>\n",
       "      <td>-0.190510</td>\n",
       "      <td>-0.322955</td>\n",
       "      <td>-0.266147</td>\n",
       "      <td>-0.323111</td>\n",
       "      <td>-0.310211</td>\n",
       "      <td>-0.226946</td>\n",
       "      <td>-0.257458</td>\n",
       "      <td>-0.275308</td>\n",
       "      <td>-0.284894</td>\n",
       "      <td>-0.314464</td>\n",
       "      <td>-0.17929</td>\n",
       "      <td>1</td>\n",
       "    </tr>\n",
       "    <tr>\n",
       "      <th>775014</th>\n",
       "      <td>-0.370246</td>\n",
       "      <td>-0.289225</td>\n",
       "      <td>-0.112553</td>\n",
       "      <td>-0.278376</td>\n",
       "      <td>-0.275988</td>\n",
       "      <td>-0.336219</td>\n",
       "      <td>5.249074</td>\n",
       "      <td>-0.322955</td>\n",
       "      <td>-0.266147</td>\n",
       "      <td>-0.323111</td>\n",
       "      <td>-0.310211</td>\n",
       "      <td>-0.226946</td>\n",
       "      <td>-0.257458</td>\n",
       "      <td>-0.275308</td>\n",
       "      <td>-0.284894</td>\n",
       "      <td>-0.314464</td>\n",
       "      <td>-0.17929</td>\n",
       "      <td>1</td>\n",
       "    </tr>\n",
       "    <tr>\n",
       "      <th>775015</th>\n",
       "      <td>6.363394</td>\n",
       "      <td>0.002887</td>\n",
       "      <td>0.524250</td>\n",
       "      <td>-0.278376</td>\n",
       "      <td>-0.275988</td>\n",
       "      <td>-0.336219</td>\n",
       "      <td>-0.190510</td>\n",
       "      <td>-0.322955</td>\n",
       "      <td>-0.266147</td>\n",
       "      <td>-0.323111</td>\n",
       "      <td>-0.310211</td>\n",
       "      <td>-0.226946</td>\n",
       "      <td>-0.257458</td>\n",
       "      <td>-0.275308</td>\n",
       "      <td>3.510079</td>\n",
       "      <td>-0.314464</td>\n",
       "      <td>-0.17929</td>\n",
       "      <td>1</td>\n",
       "    </tr>\n",
       "    <tr>\n",
       "      <th>775016</th>\n",
       "      <td>5.009204</td>\n",
       "      <td>-0.074031</td>\n",
       "      <td>-0.873593</td>\n",
       "      <td>-0.278376</td>\n",
       "      <td>-0.275988</td>\n",
       "      <td>-0.336219</td>\n",
       "      <td>-0.190510</td>\n",
       "      <td>-0.322955</td>\n",
       "      <td>-0.266147</td>\n",
       "      <td>-0.323111</td>\n",
       "      <td>-0.310211</td>\n",
       "      <td>-0.226946</td>\n",
       "      <td>-0.257458</td>\n",
       "      <td>-0.275308</td>\n",
       "      <td>-0.284894</td>\n",
       "      <td>3.180010</td>\n",
       "      <td>-0.17929</td>\n",
       "      <td>1</td>\n",
       "    </tr>\n",
       "    <tr>\n",
       "      <th>775017</th>\n",
       "      <td>1.474739</td>\n",
       "      <td>-0.288638</td>\n",
       "      <td>-1.300180</td>\n",
       "      <td>-0.278376</td>\n",
       "      <td>-0.275988</td>\n",
       "      <td>-0.336219</td>\n",
       "      <td>-0.190510</td>\n",
       "      <td>3.096403</td>\n",
       "      <td>-0.266147</td>\n",
       "      <td>-0.323111</td>\n",
       "      <td>-0.310211</td>\n",
       "      <td>-0.226946</td>\n",
       "      <td>-0.257458</td>\n",
       "      <td>-0.275308</td>\n",
       "      <td>-0.284894</td>\n",
       "      <td>-0.314464</td>\n",
       "      <td>-0.17929</td>\n",
       "      <td>1</td>\n",
       "    </tr>\n",
       "  </tbody>\n",
       "</table>\n",
       "<p>775018 rows × 18 columns</p>\n",
       "</div>"
      ],
      "text/plain": [
       "               0         1         2         3         4         5         6  \\\n",
       "0      -0.141414 -0.289937  1.070757 -0.278376 -0.275988 -0.336219 -0.190510   \n",
       "1      -0.389317 -0.276441  0.897274 -0.278376 -0.275988 -0.336219 -0.190510   \n",
       "2       0.039317 -0.039814  1.244240 -0.278376 -0.275988 -0.336219 -0.190510   \n",
       "3      -0.060003 -0.293272  1.417723 -0.278376 -0.275988  2.974253 -0.190510   \n",
       "4       0.120301 -0.180632  0.608135  3.592267 -0.275988 -0.336219 -0.190510   \n",
       "...          ...       ...       ...       ...       ...       ...       ...   \n",
       "775013  2.928237 -0.289327 -0.192000  3.592267 -0.275988 -0.336219 -0.190510   \n",
       "775014 -0.370246 -0.289225 -0.112553 -0.278376 -0.275988 -0.336219  5.249074   \n",
       "775015  6.363394  0.002887  0.524250 -0.278376 -0.275988 -0.336219 -0.190510   \n",
       "775016  5.009204 -0.074031 -0.873593 -0.278376 -0.275988 -0.336219 -0.190510   \n",
       "775017  1.474739 -0.288638 -1.300180 -0.278376 -0.275988 -0.336219 -0.190510   \n",
       "\n",
       "               7         8         9        10        11        12        13  \\\n",
       "0      -0.322955 -0.266147  3.094914 -0.310211 -0.226946 -0.257458 -0.275308   \n",
       "1      -0.322955  3.757324 -0.323111 -0.310211 -0.226946 -0.257458 -0.275308   \n",
       "2       3.096403 -0.266147 -0.323111 -0.310211 -0.226946 -0.257458 -0.275308   \n",
       "3      -0.322955 -0.266147 -0.323111 -0.310211 -0.226946 -0.257458 -0.275308   \n",
       "4      -0.322955 -0.266147 -0.323111 -0.310211 -0.226946 -0.257458 -0.275308   \n",
       "...          ...       ...       ...       ...       ...       ...       ...   \n",
       "775013 -0.322955 -0.266147 -0.323111 -0.310211 -0.226946 -0.257458 -0.275308   \n",
       "775014 -0.322955 -0.266147 -0.323111 -0.310211 -0.226946 -0.257458 -0.275308   \n",
       "775015 -0.322955 -0.266147 -0.323111 -0.310211 -0.226946 -0.257458 -0.275308   \n",
       "775016 -0.322955 -0.266147 -0.323111 -0.310211 -0.226946 -0.257458 -0.275308   \n",
       "775017  3.096403 -0.266147 -0.323111 -0.310211 -0.226946 -0.257458 -0.275308   \n",
       "\n",
       "              14        15       16  is_fraud  \n",
       "0      -0.284894 -0.314464 -0.17929         0  \n",
       "1      -0.284894 -0.314464 -0.17929         0  \n",
       "2      -0.284894 -0.314464 -0.17929         0  \n",
       "3      -0.284894 -0.314464 -0.17929         0  \n",
       "4      -0.284894 -0.314464 -0.17929         0  \n",
       "...          ...       ...      ...       ...  \n",
       "775013 -0.284894 -0.314464 -0.17929         1  \n",
       "775014 -0.284894 -0.314464 -0.17929         1  \n",
       "775015  3.510079 -0.314464 -0.17929         1  \n",
       "775016 -0.284894  3.180010 -0.17929         1  \n",
       "775017 -0.284894 -0.314464 -0.17929         1  \n",
       "\n",
       "[775018 rows x 18 columns]"
      ]
     },
     "execution_count": 45,
     "metadata": {},
     "output_type": "execute_result"
    }
   ],
   "source": [
    "smote_X = pd.DataFrame(smote_X)\n",
    "smote_y = pd.DataFrame(smote_y)\n",
    "raw_temp = pd.concat([smote_X, smote_y], axis = 1)\n",
    "raw_temp"
   ]
  },
  {
   "cell_type": "code",
   "execution_count": 47,
   "metadata": {
    "colab": {
     "base_uri": "https://localhost:8080/",
     "height": 520
    },
    "id": "G-MUv66T-RZE",
    "outputId": "a845731d-5a52-4480-d5eb-8dd58de8c3ca"
   },
   "outputs": [
    {
     "data": {
      "image/png": "[encoded data removed]",
      "text/plain": [
       "<Figure size 640x480 with 1 Axes>"
      ]
     },
     "metadata": {},
     "output_type": "display_data"
    }
   ],
   "source": [
    "# not sure if this is right\n",
    "plt.scatter(df[df[\"is_fraud\"] == 0][\"amt\"], df[df[\"is_fraud\"] == 0][\"city_pop\"])\n",
    "plt.scatter(df[df[\"is_fraud\"] == 1][\"amt\"], df[df[\"is_fraud\"] == 1][\"city_pop\"])\n",
    "plt.legend([ \"Not Fraud\", \"Fraud\"])\n",
    "plt.xlabel(\"Amount\")\n",
    "plt.ylabel(\"Population\")\n",
    "\n",
    "plt.show()"
   ]
  },
  {
   "cell_type": "markdown",
   "metadata": {
    "id": "wjt1pnzgZcuO"
   },
   "source": [
    "# 7.) We want to compare oversampling, undersampling and SMOTE across our 3 models (Logistic Regression, Logistic Regression Lasso and Decision Trees).\n",
    "\n",
    "# Make a dataframe that has a dual index and 9 Rows.\n",
    "# Calculate: Sensitivity, Specificity, Precision, Recall and F1 score for out of sample data.\n",
    "# Notice any patterns across perfomance for this model. Does one totally out perform the others i.e. over/under/smote or does a model perform better DT, Lasso, LR?\n",
    "# Choose what you think is the best model and why."
   ]
  },
  {
   "cell_type": "code",
   "execution_count": 50,
   "metadata": {
    "id": "0tIC3Nd1bx-N"
   },
   "outputs": [],
   "source": [
    "from sklearn.tree import DecisionTreeClassifier\n",
    "from sklearn.metrics import confusion_matrix, precision_score, recall_score, f1_score\n",
    "import pandas as pd"
   ]
  },
  {
   "cell_type": "code",
   "execution_count": 64,
   "metadata": {},
   "outputs": [],
   "source": [
    "resampling_methods = {\n",
    "    'over': RandomOverSampler(),\n",
    "    'under': RandomUnderSampler(),\n",
    "    'smote': SMOTE()\n",
    "}\n",
    "\n",
    "model_configs = {\n",
    "    'LOG': LogisticRegression(),\n",
    "    'LASSO': LogisticRegression(penalty = 'l1', C = 2, solver = 'liblinear'),\n",
    "    'DTREE': DecisionTreeClassifier()\n",
    "}"
   ]
  },
  {
   "cell_type": "code",
   "execution_count": 65,
   "metadata": {},
   "outputs": [],
   "source": [
    "# want to calculate a performance metric function\n",
    "def calc_perf_metric(y_true, y_pred):\n",
    "    tn, fp, fn, tp = confusion_matrix(y_true, y_pred).ravel()\n",
    "    \n",
    "    sensitivity = tp/(tp+fn)\n",
    "    specificity = tn/(tn+fp)\n",
    "    precision = precision_score(y_true, y_pred)\n",
    "    recall = recall_score(y_true, y_pred)\n",
    "    f1 = f1_score(y_true, y_pred)\n",
    "    \n",
    "    return(sensitivity, specificity, precision, recall, f1)"
   ]
  },
  {
   "cell_type": "code",
   "execution_count": 66,
   "metadata": {},
   "outputs": [],
   "source": [
    "trained_models = {}\n",
    "results = []"
   ]
  },
  {
   "cell_type": "code",
   "execution_count": 67,
   "metadata": {},
   "outputs": [
    {
     "name": "stderr",
     "output_type": "stream",
     "text": [
      "C:\\Users\\12282\\anaconda3\\Lib\\site-packages\\sklearn\\utils\\validation.py:1229: DataConversionWarning: A column-vector y was passed when a 1d array was expected. Please change the shape of y to (n_samples, ), for example using ravel().\n",
      "  y = column_or_1d(y, warn=True)\n",
      "C:\\Users\\12282\\anaconda3\\Lib\\site-packages\\sklearn\\utils\\validation.py:1229: DataConversionWarning: A column-vector y was passed when a 1d array was expected. Please change the shape of y to (n_samples, ), for example using ravel().\n",
      "  y = column_or_1d(y, warn=True)\n",
      "C:\\Users\\12282\\anaconda3\\Lib\\site-packages\\sklearn\\utils\\validation.py:1229: DataConversionWarning: A column-vector y was passed when a 1d array was expected. Please change the shape of y to (n_samples, ), for example using ravel().\n",
      "  y = column_or_1d(y, warn=True)\n",
      "C:\\Users\\12282\\anaconda3\\Lib\\site-packages\\sklearn\\utils\\validation.py:1229: DataConversionWarning: A column-vector y was passed when a 1d array was expected. Please change the shape of y to (n_samples, ), for example using ravel().\n",
      "  y = column_or_1d(y, warn=True)\n",
      "C:\\Users\\12282\\anaconda3\\Lib\\site-packages\\sklearn\\utils\\validation.py:1229: DataConversionWarning: A column-vector y was passed when a 1d array was expected. Please change the shape of y to (n_samples, ), for example using ravel().\n",
      "  y = column_or_1d(y, warn=True)\n",
      "C:\\Users\\12282\\anaconda3\\Lib\\site-packages\\sklearn\\utils\\validation.py:1229: DataConversionWarning: A column-vector y was passed when a 1d array was expected. Please change the shape of y to (n_samples, ), for example using ravel().\n",
      "  y = column_or_1d(y, warn=True)\n"
     ]
    }
   ],
   "source": [
    "for resample_key, resampler in resampling_methods.items():\n",
    "    resample_X, resample_y = resampler.fit_resample(X_train, y_train)\n",
    "    \n",
    "    for model_key, model in model_configs.items():\n",
    "        combined_key = f'{resample_key}_{model_key}'\n",
    "        \n",
    "        m = model.fit(resample_X, resample_y)\n",
    "        \n",
    "        trained_models[combined_key] = m\n",
    "        \n",
    "        y_pred = m.predict(X_test)\n",
    "        \n",
    "        sensitivity, specificity, precision, recall, f1 = calc_perf_metric(y_test, y_pred)\n",
    "        \n",
    "        results.append({'Model': combined_key,\n",
    "                        'Sensitivity': sensitivity,\n",
    "                       'Specificity': specificity,\n",
    "                       'Precision': precision,\n",
    "                       'Recall': recall,\n",
    "                       'F1': f1})\n",
    "        #####\n",
    "        #results.append(calc_perf_metric(y_test, y_pred))"
   ]
  },
  {
   "cell_type": "code",
   "execution_count": 68,
   "metadata": {},
   "outputs": [
    {
     "data": {
      "text/html": [
       "<div>\n",
       "<style scoped>\n",
       "    .dataframe tbody tr th:only-of-type {\n",
       "        vertical-align: middle;\n",
       "    }\n",
       "\n",
       "    .dataframe tbody tr th {\n",
       "        vertical-align: top;\n",
       "    }\n",
       "\n",
       "    .dataframe thead th {\n",
       "        text-align: right;\n",
       "    }\n",
       "</style>\n",
       "<table border=\"1\" class=\"dataframe\">\n",
       "  <thead>\n",
       "    <tr style=\"text-align: right;\">\n",
       "      <th></th>\n",
       "      <th>Model</th>\n",
       "      <th>Sensitivity</th>\n",
       "      <th>Specificity</th>\n",
       "      <th>Precision</th>\n",
       "      <th>Recall</th>\n",
       "      <th>F1</th>\n",
       "    </tr>\n",
       "  </thead>\n",
       "  <tbody>\n",
       "    <tr>\n",
       "      <th>0</th>\n",
       "      <td>over_LOG</td>\n",
       "      <td>0.738411</td>\n",
       "      <td>0.927856</td>\n",
       "      <td>0.035881</td>\n",
       "      <td>0.738411</td>\n",
       "      <td>0.068436</td>\n",
       "    </tr>\n",
       "    <tr>\n",
       "      <th>1</th>\n",
       "      <td>over_LASSO</td>\n",
       "      <td>0.738411</td>\n",
       "      <td>0.927928</td>\n",
       "      <td>0.035916</td>\n",
       "      <td>0.738411</td>\n",
       "      <td>0.068499</td>\n",
       "    </tr>\n",
       "    <tr>\n",
       "      <th>2</th>\n",
       "      <td>over_DTREE</td>\n",
       "      <td>0.569536</td>\n",
       "      <td>0.998736</td>\n",
       "      <td>0.620939</td>\n",
       "      <td>0.569536</td>\n",
       "      <td>0.594128</td>\n",
       "    </tr>\n",
       "    <tr>\n",
       "      <th>3</th>\n",
       "      <td>under_LOG</td>\n",
       "      <td>0.738411</td>\n",
       "      <td>0.924713</td>\n",
       "      <td>0.034435</td>\n",
       "      <td>0.738411</td>\n",
       "      <td>0.065801</td>\n",
       "    </tr>\n",
       "    <tr>\n",
       "      <th>4</th>\n",
       "      <td>under_LASSO</td>\n",
       "      <td>0.738411</td>\n",
       "      <td>0.924172</td>\n",
       "      <td>0.034197</td>\n",
       "      <td>0.738411</td>\n",
       "      <td>0.065367</td>\n",
       "    </tr>\n",
       "    <tr>\n",
       "      <th>5</th>\n",
       "      <td>under_DTREE</td>\n",
       "      <td>0.953642</td>\n",
       "      <td>0.946048</td>\n",
       "      <td>0.060390</td>\n",
       "      <td>0.953642</td>\n",
       "      <td>0.113587</td>\n",
       "    </tr>\n",
       "    <tr>\n",
       "      <th>6</th>\n",
       "      <td>smote_LOG</td>\n",
       "      <td>0.738411</td>\n",
       "      <td>0.925014</td>\n",
       "      <td>0.034568</td>\n",
       "      <td>0.738411</td>\n",
       "      <td>0.066045</td>\n",
       "    </tr>\n",
       "    <tr>\n",
       "      <th>7</th>\n",
       "      <td>smote_LASSO</td>\n",
       "      <td>0.738411</td>\n",
       "      <td>0.925014</td>\n",
       "      <td>0.034568</td>\n",
       "      <td>0.738411</td>\n",
       "      <td>0.066045</td>\n",
       "    </tr>\n",
       "    <tr>\n",
       "      <th>8</th>\n",
       "      <td>smote_DTREE</td>\n",
       "      <td>0.692053</td>\n",
       "      <td>0.993402</td>\n",
       "      <td>0.276090</td>\n",
       "      <td>0.692053</td>\n",
       "      <td>0.394712</td>\n",
       "    </tr>\n",
       "  </tbody>\n",
       "</table>\n",
       "</div>"
      ],
      "text/plain": [
       "         Model  Sensitivity  Specificity  Precision    Recall        F1\n",
       "0     over_LOG     0.738411     0.927856   0.035881  0.738411  0.068436\n",
       "1   over_LASSO     0.738411     0.927928   0.035916  0.738411  0.068499\n",
       "2   over_DTREE     0.569536     0.998736   0.620939  0.569536  0.594128\n",
       "3    under_LOG     0.738411     0.924713   0.034435  0.738411  0.065801\n",
       "4  under_LASSO     0.738411     0.924172   0.034197  0.738411  0.065367\n",
       "5  under_DTREE     0.953642     0.946048   0.060390  0.953642  0.113587\n",
       "6    smote_LOG     0.738411     0.925014   0.034568  0.738411  0.066045\n",
       "7  smote_LASSO     0.738411     0.925014   0.034568  0.738411  0.066045\n",
       "8  smote_DTREE     0.692053     0.993402   0.276090  0.692053  0.394712"
      ]
     },
     "execution_count": 68,
     "metadata": {},
     "output_type": "execute_result"
    }
   ],
   "source": [
    "result_df = pd.DataFrame(results)\n",
    "result_df"
   ]
  },
  {
   "cell_type": "markdown",
   "metadata": {},
   "source": [
    "In the machine learning lecture, we were told that F1 is usually the best measure of the validity of a model, particularly when it comes to imbalanced datasets. With this in mind, it is important to note than the over_DTREE model has the best F1 score, and by a large margin. However, smote_DTREE has higher sensitivity and recall values. Because we are predicting whether or not a crdit card transaction is fraudulent or not, it is important to minimize the number of false negatives."
   ]
  },
  {
   "cell_type": "markdown",
   "metadata": {},
   "source": [
    "$$ Recall = \\frac{TP}{TP + FN} $$"
   ]
  },
  {
   "cell_type": "markdown",
   "metadata": {},
   "source": [
    "With this in mind, I believe the best model is the one that maximizes recall, therefore minimizing the number of unreported fraudulent purchase (under_DTREE)."
   ]
  }
 ],
 "metadata": {
  "colab": {
   "provenance": []
  },
  "kernelspec": {
   "display_name": "Python 3 (ipykernel)",
   "language": "python",
   "name": "python3"
  },
  "language_info": {
   "codemirror_mode": {
    "name": "ipython",
    "version": 3
   },
   "file_extension": ".py",
   "mimetype": "text/x-python",
   "name": "python",
   "nbconvert_exporter": "python",
   "pygments_lexer": "ipython3",
   "version": "3.11.5"
  }
 },
 "nbformat": 4,
 "nbformat_minor": 1
}
