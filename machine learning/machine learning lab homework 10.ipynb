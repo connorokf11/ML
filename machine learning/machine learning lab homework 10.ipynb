{
 "cells": [
  {
   "cell_type": "markdown",
   "metadata": {
    "id": "2yG54y-lgqkC"
   },
   "source": [
    "# Machine Learning Lab HW 10\n",
    "# Connor O'Keefe\n",
    "# 03/13/2024"
   ]
  },
  {
   "cell_type": "markdown",
   "metadata": {
    "id": "TLm02p4Ngz7c"
   },
   "source": [
    "# 1.) Define Enviornment"
   ]
  },
  {
   "cell_type": "code",
   "execution_count": 1,
   "metadata": {
    "id": "vew5z-tWg1QP"
   },
   "outputs": [],
   "source": [
    "import numpy as np\n",
    "import matplotlib.pyplot as plt\n",
    "from IPython.display import clear_output\n",
    "import time\n",
    "\n",
    "grid_size = 5\n",
    "actions = ['up', 'down', 'left', 'right']\n",
    "num_actions = len(actions)\n",
    "agent_position = [0, 0]\n",
    "goal_position = [4, 4]\n",
    "\n",
    "# Rewards\n",
    "rewards = {'goal': 1, 'other': -0.01}  # Minor negative reward to encourage exploration\n",
    "\n",
    "# Initialize Q-table\n",
    "Q_table = np.zeros((grid_size, grid_size, num_actions))\n",
    "\n",
    "# Learning parameters\n",
    "learning_rate = 0.1\n",
    "discount_factor = 0.95\n",
    "episodes = 1000\n",
    "epsilon = 0.1  # Exploration rate"
   ]
  },
  {
   "cell_type": "markdown",
   "metadata": {
    "id": "G2iZiUCcg2BA"
   },
   "source": [
    "putting an \"agent\" on a grid that has to figure out how to get to the end (G)"
   ]
  },
  {
   "cell_type": "markdown",
   "metadata": {
    "id": "_WA7feHdg7Wh"
   },
   "source": [
    "# 2.) Define Action Rewards"
   ]
  },
  {
   "cell_type": "code",
   "execution_count": 2,
   "metadata": {
    "id": "vNNf3djQg9zu"
   },
   "outputs": [],
   "source": [
    "# Visualization setup\n",
    "def plot_episode(steps, episode):\n",
    "    clear_output(wait=True)\n",
    "    plt.figure(figsize=(5, 5))\n",
    "    plt.title(f\"Episode: {episode}, Steps: {steps}\")\n",
    "    plt.xlim(-0.5, grid_size-0.5)\n",
    "    plt.ylim(-0.5, grid_size-0.5)\n",
    "    plt.grid()\n",
    "\n",
    "    for i in range(grid_size):\n",
    "        for j in range(grid_size):\n",
    "            if [i, j] == agent_position:\n",
    "                plt.text(j, grid_size-1-i, 'A', ha='center', va='center')\n",
    "            elif [i, j] == goal_position:\n",
    "                plt.text(j, grid_size-1-i, 'G', ha='center', va='center')\n",
    "            else:\n",
    "                plt.text(j, grid_size-1-i, '.', ha='center', va='center')\n",
    "\n",
    "    plt.show()\n",
    "\n",
    "def move_agent(agent_position, action_index):\n",
    "    if actions[action_index] == 'up' and agent_position[0] > 0:\n",
    "        agent_position[0] -= 1\n",
    "    elif actions[action_index] == 'down' and agent_position[0] < grid_size - 1:\n",
    "        agent_position[0] += 1\n",
    "    elif actions[action_index] == 'left' and agent_position[1] > 0:\n",
    "        agent_position[1] -= 1\n",
    "    elif actions[action_index] == 'right' and agent_position[1] < grid_size - 1:\n",
    "        agent_position[1] += 1\n",
    "    return agent_position\n",
    "\n",
    "def get_reward(agent_position):\n",
    "    if agent_position == goal_position:\n",
    "        return rewards['goal']\n",
    "    else:\n",
    "        return rewards['other']"
   ]
  },
  {
   "cell_type": "markdown",
   "metadata": {
    "id": "f-6LvbI2hBGn"
   },
   "source": [
    "# 3.) Implement Basic Q learning"
   ]
  },
  {
   "cell_type": "code",
   "execution_count": 4,
   "metadata": {
    "colab": {
     "base_uri": "https://localhost:8080/",
     "height": 662
    },
    "id": "oc6qSdJsg_Uj",
    "outputId": "990e16f0-d1af-4730-825f-f13ee6032649"
   },
   "outputs": [
    {
     "data": {
      "image/png": "[encoded data removed]",
      "text/plain": [
       "<Figure size 500x500 with 1 Axes>"
      ]
     },
     "metadata": {},
     "output_type": "display_data"
    }
   ],
   "source": [
    "for episode in range(episodes):\n",
    "    agent_position = [0, 0]  # Reset position at start of each episode\n",
    "    steps = 0\n",
    "\n",
    "    while agent_position != goal_position:\n",
    "        steps += 1\n",
    "        if np.random.rand() < epsilon:  # Explore\n",
    "            action = np.random.randint(num_actions)\n",
    "        else:  # Exploit\n",
    "            action = np.argmax(Q_table[agent_position[0], agent_position[1], :])\n",
    "\n",
    "        old_position = list(agent_position)\n",
    "        new_position = move_agent(list(agent_position), action)\n",
    "        reward = get_reward(new_position)\n",
    "\n",
    "        # Update Q-table\n",
    "        old_q_value = Q_table[old_position[0], old_position[1], action]\n",
    "        future_q_value = np.max(Q_table[new_position[0], new_position[1], :])\n",
    "        Q_table[old_position[0], old_position[1], action] = old_q_value + learning_rate * (reward + discount_factor * future_q_value - old_q_value)\n",
    "\n",
    "        agent_position = new_position\n",
    "\n",
    "        # Visualization every 100 episodes\n",
    "        if episode % 100 == 0:\n",
    "            plot_episode(steps, episode)\n",
    "            time.sleep(0.1)  # Slow down the visualization\n",
    "\n",
    "    if steps <= grid_size * 2:  # Early stop if it finds a reasonably good path\n",
    "        break"
   ]
  },
  {
   "cell_type": "markdown",
   "metadata": {},
   "source": [
    "The algorithm originally took 116 steps to reach the end, but it re-uses the Q-table, so after running it again, it only took 20 steps to reach the end."
   ]
  }
 ],
 "metadata": {
  "colab": {
   "provenance": []
  },
  "kernelspec": {
   "display_name": "Python 3 (ipykernel)",
   "language": "python",
   "name": "python3"
  },
  "language_info": {
   "codemirror_mode": {
    "name": "ipython",
    "version": 3
   },
   "file_extension": ".py",
   "mimetype": "text/x-python",
   "name": "python",
   "nbconvert_exporter": "python",
   "pygments_lexer": "ipython3",
   "version": "3.11.5"
  }
 },
 "nbformat": 4,
 "nbformat_minor": 1
}
